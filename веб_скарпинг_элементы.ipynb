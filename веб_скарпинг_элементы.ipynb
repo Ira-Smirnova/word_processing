{
 "cells": [
  {
   "cell_type": "code",
   "execution_count": 1,
   "id": "f2c8fe03-8c22-4d7f-8a7d-7c8336e6f72b",
   "metadata": {},
   "outputs": [],
   "source": [
    "import requests as rq\n",
    "from bs4 import BeautifulSoup as bs"
   ]
  },
  {
   "cell_type": "markdown",
   "id": "ade8df90-00a0-422a-b62a-89c86dea5477",
   "metadata": {},
   "source": [
    "# Извлечение из раздела 'MORE FROM CGTN CHINA'"
   ]
  },
  {
   "cell_type": "code",
   "execution_count": 11,
   "id": "27472232-a215-4747-8bac-2eaff0da3dca",
   "metadata": {},
   "outputs": [
    {
     "name": "stdout",
     "output_type": "stream",
     "text": [
      "Xi's special envoy to attend PNG's 50th independence anniversary event\n",
      "Trailer: 'Mozart, L'OpÃ©ra Rock' stars captivate audiences in China\n",
      "Chasing Muqam â Episode 1:  A mysterious invite\n",
      "Local efforts, technology protect bird migration haven in E China\n",
      "Labubu greets visitors at China's service trade fair\n",
      "I traveled to Xinjiang â Here's the hardest part!\n",
      "China's fiscal policy has ample room for future action, says finance minister\n",
      "Zhu Deyong: Greed leads us astray from our true nature\n"
     ]
    }
   ],
   "source": [
    "url_MFCH = 'https://www.cgtn.com/china'\n",
    "\n",
    "headers = {'User-Agent': 'Mozilla/5.0 (X11; Ubuntu; Linux x86_64; rv:88.0) '\n",
    "           'Gecko/20100101 Firefox/88.0'}\n",
    "\n",
    "# Получаем страницу\n",
    "response = rq.get(url=url_MFCH, headers=headers)\n",
    "response.raise_for_status()  # Убедимся, что запрос был успешным\n",
    "\n",
    "# Создаем объект BeautifulSoup\n",
    "soup_mfch = bs(response.text, 'html.parser')\n",
    "\n",
    "inf_1_mfch = soup_mfch.find('div', {'class':'first-module-8-1 common-module'})\n",
    "inf_list_mfch = inf_1_mfch.findAll('div', {'class':'cg-content-description'})\n",
    "for element in inf_list_mfch:\n",
    "    print (str.strip(element.find('div', {'class':'cg-title'}).find('a').text))"
   ]
  },
  {
   "cell_type": "markdown",
   "id": "03552303-b52f-4018-a1c7-74522fb8cba5",
   "metadata": {},
   "source": [
    "# Извлечение ifeng"
   ]
  },
  {
   "cell_type": "code",
   "execution_count": 3,
   "id": "4cdfa58c-f310-4a33-baf8-366fd8d7e63b",
   "metadata": {},
   "outputs": [
    {
     "data": {
      "text/plain": [
       "{'三甲医院开设“浑身不得劲门诊”，不到4天被叫停': '丁香园今天 20:090',\n",
       " '“秦始皇遣使采药昆仑石刻”为何能保存至今？专家解答': '今天 20:030',\n",
       " '中国邮政“这局好玩儿” 成都站带你玩转熊猫邮局，感受成都的可爱与邮政的浪漫': '09-01 12:420',\n",
       " '俄白联合军演，两名美军军官“意外现身”': '今天 20:000',\n",
       " '为应对以色列威胁，阿拉伯国家寻求建立“阿拉伯版北约”': '今天 19:590',\n",
       " '论文被指大量错误，武大杨某媛回复': '今天 19:570',\n",
       " '侦察情报总局首现朝媒，韩国表态': '今天 19:470',\n",
       " '他信被转移至狱中医疗病房，佩通坦透露“他已剃光头发”': '今天 19:450',\n",
       " '风波后西贝门店：员工称承受不少压力，周末客流下降三四成': '今天 19:400',\n",
       " '美军无人机发射导弹，被“UFO”弹开？': '今天 19:300',\n",
       " '将顾客视为下级，西贝进行了一场大型服从性测试': '今天 19:050',\n",
       " '台北地院裁定：柯文哲维持交保，仍是自由身': '今天 19:000',\n",
       " '西贝道歉后，罗永浩：决定放弃进一步追究': '今天 18:450',\n",
       " '顾客只想吃口安心饭，没想“虐”西贝千百遍': '今天 18:330',\n",
       " '到底什么是预制菜？为何争议不断？': '今天 18:280',\n",
       " '云南蒙自两家砖厂疑控制残障人非法务工？当地已成立调查组进行处置': '今天 18:220',\n",
       " '媒体评西贝道歉：顾客只想吃口安心饭，没想虐你千百遍': '今天 18:200',\n",
       " '韩国一男子涉嫌殴打仅35天大的儿子致死并弃尸，已被警方拘留': '今天 18:190',\n",
       " '柯克案嫌犯政治倾向“成谜”': '环时深度观察今天 18:190',\n",
       " '西方交易商喊疼：过去能从中国买到100公斤锗，现在能给10公斤都谢天谢地了': '今天 18:150',\n",
       " '伊朗与国际原子能机构达成协议，伊外长：执行协议是有条件的': '今天 18:130',\n",
       " '克宫：北约已经与俄罗斯交战': '今天 18:120',\n",
       " '面对美国关税，瑞士名表硬气涨价：要怪就怪特朗普！': '今天 18:080'}"
      ]
     },
     "execution_count": 3,
     "metadata": {},
     "output_type": "execute_result"
    }
   ],
   "source": [
    "url_ifeng = 'https://news.ifeng.com/'\n",
    "\n",
    "headers = {'User-Agent': 'Mozilla/5.0 (X11; Ubuntu; Linux x86_64; rv:88.0) '\n",
    "           'Gecko/20100101 Firefox/88.0'}\n",
    "\n",
    "# Получаем страницу\n",
    "response = rq.get(url=url_ifeng, headers=headers)\n",
    "response.raise_for_status()  # Убедимся, что запрос был успешным\n",
    "response.encoding = 'utf-8' #корректное отображение китайского\n",
    "\n",
    "# Создаем объект BeautifulSoup\n",
    "soup_ifeng = bs(response.text, 'html.parser')\n",
    "\n",
    "inf_ifeng = soup_ifeng.find('div', {'class':'index_content_RQk8t'})\n",
    "inf_list_ifeng = inf_ifeng.findAll('div', {'class':'news-stream-newsStream-news-item-infor'})\n",
    "\n",
    "news_ifeng = {}\n",
    "for element in inf_list_ifeng:\n",
    "    news_ifeng[f'{str.strip(element.find('a').text)}'] = f'{str.strip(element.find('div', {'class':'clearfix'}).text)}'\n",
    "\n",
    "news_ifeng\n",
    "\n",
    "# for element in inf_list_ifeng:\n",
    "#     print (str.strip(element.find('a').text))\n",
    "\n",
    "# for element in inf_list_ifeng:\n",
    "#     print (str.strip(element.find('div', {'class':'clearfix'}).text))"
   ]
  },
  {
   "cell_type": "markdown",
   "id": "5331546d-0d4a-4789-b272-89113abd986e",
   "metadata": {},
   "source": [
    "# Извлечение baidu"
   ]
  },
  {
   "cell_type": "code",
   "execution_count": 67,
   "id": "f62838a7-e5b0-4779-a71a-1f78ddf72835",
   "metadata": {},
   "outputs": [
    {
     "name": "stdout",
     "output_type": "stream",
     "text": [
      "Новость № 1 - 永远做中华民族文明成果与人类和平事业的捍卫者\n",
      "Новость № 2 - 山河永念，英雄归乡\n",
      "Новость № 3 - 人民是历史的创造者\n",
      "Новость № 4 - 英烈终归故里！这些细节写满敬意 \n",
      "Новость № 5 - 回家：一个个愿望，一次次实现\n",
      "Новость № 6 - 过敏性鼻炎发作，扛一扛就过去了……是真是假？\n",
      "Новость № 7 - 加力稳外贸稳外资 陕西推动高水平对外开放\n",
      "Новость № 8 - 人民财评：有“服”同享，“贸”利全球  \n",
      "Новость № 9 - 2025年中国公平竞争政策宣传周启动\n",
      "Новость № 10 - 好故事没有国界——写在第二届金熊猫奖举办之际 \n",
      "Новость № 11 - 砥砺奋进七十载 天山南北谱华章丨天山起新航 \n",
      "Новость № 12 - 今日辟谣\n",
      "Новость № 13 - 北京网站辟谣平台\n",
      "Новость № 14 - 互联网联合辟谣平台\n",
      "Новость № 15 - 北京各区推进“互联护企”涉企网络侵权举报专项工作\n",
      "Новость № 16 - 重磅！国务院批复同意新建黄岩岛国家级自然保护区\n",
      "Новость № 17 - 石平称中国对其制裁是一种光荣，外交部回应\n",
      "Новость № 18 - 俯拍视角曝光:尼泊尔宫殿被大火吞没 国家重要文件档案烧毁\n",
      "Новость № 19 - 海军福建舰赴南海相关海域开展科研试验和训练任务\n",
      "Новость № 20 - 罗永浩悬赏10万，征集西贝预制菜线索\n",
      "Новость № 21 - 柯克枪击案嫌犯一瘸一拐走进校园 枪击发生后快步逃逸\n",
      "Новость № 22 - \n",
      "\n",
      "点击刷新，将会有未读推荐\n",
      "\n",
      "Новость № 23 - 更多个性推荐新闻\n"
     ]
    }
   ],
   "source": [
    "url_baidu = 'https://news.baidu.com/'\n",
    "\n",
    "headers = {'User-Agent': 'Mozilla/5.0 (X11; Ubuntu; Linux x86_64; rv:88.0) '\n",
    "           'Gecko/20100101 Firefox/88.0'}\n",
    "\n",
    "# Получаем страницу\n",
    "response = rq.get(url=url_baidu, headers=headers)\n",
    "response.raise_for_status()  # Убедимся, что запрос был успешным\n",
    "response.encoding = 'utf-8'\n",
    "\n",
    "# Создаем объект BeautifulSoup\n",
    "soup_baidu = bs(response.text, 'html.parser')\n",
    "\n",
    "inf_1_baidu = soup_baidu.find('div', {'class':'mod-tab-content'})\n",
    "inf_list_baidu = inf_1_baidu.findAll('a')\n",
    "for i, element in enumerate(inf_list_baidu):\n",
    "    print(f'Новость № {i+1} - {element.text}')"
   ]
  },
  {
   "cell_type": "markdown",
   "id": "f7223b91-2063-40eb-9247-0114c4cc931e",
   "metadata": {},
   "source": [
    "# MOST READ"
   ]
  },
  {
   "cell_type": "code",
   "execution_count": 10,
   "id": "d38059b3-7870-4bde-90cb-e9ae97b23ea4",
   "metadata": {},
   "outputs": [
    {
     "name": "stdout",
     "output_type": "stream",
     "text": [
      "Новость № 1: 'The Conservative Party is over': MP defects to Reform UK\n",
      "Новость № 2: Judge admonishes Constance Marten and Mark Gordon in court as sentencing hearing over death of their baby takes place\n",
      "Новость № 3: 'He inspired generations': Ricky Hatton's family pay tribute after boxer's death\n",
      "Новость № 4: New details emerge about suspect in Charlie Kirk killing\n",
      "Новость № 5: Netanyahu refuses to rule out further strikes on Hamas leaders abroad - after Trump warns Israel\n",
      "Новость № 6: Bob Vylan gig cancelled after frontman's comments about Charlie Kirk's death\n",
      "Новость № 7: 'Killer car seats' found for sale online; bank launching £200 switch deal tomorrow | Money\n",
      "Новость № 8: Young Adolescence star makes history - as show cleans up at Emmys\n",
      "Новость № 9: Russia's war rehearsals are worrying Europe – but they do offer NATO one thing\n",
      "Новость № 10: Torture, rape and forced starvation as paramilitaries suffocate besieged city\n"
     ]
    }
   ],
   "source": [
    "url_sky = 'https://news.sky.com/uk'\n",
    "\n",
    "headers = {'User-Agent': 'Mozilla/5.0 (X11; Ubuntu; Linux x86_64; rv:88.0) '\n",
    "           'Gecko/20100101 Firefox/88.0'}\n",
    "\n",
    "# Получаем страницу\n",
    "response = rq.get(url=url_sky, headers=headers)\n",
    "response.raise_for_status()  # Убедимся, что запрос был успешным\n",
    "\n",
    "# Создаем объект BeautifulSoup\n",
    "soup_sky = bs(response.text, 'html.parser')\n",
    "\n",
    "inf_1_sky = soup_sky.find('div', {'class':'site-wrap site-wrap-padding'})\n",
    "inf_list_sky = inf_1_sky.findAll('li', {'class':'ui-trending-item'})\n",
    "for num, element in enumerate(inf_list_sky):\n",
    "    print(f'Новость № {num + 1}: {str.strip(element.find('a').text)}')"
   ]
  }
 ],
 "metadata": {
  "kernelspec": {
   "display_name": "Python [conda env:base] *",
   "language": "python",
   "name": "conda-base-py"
  },
  "language_info": {
   "codemirror_mode": {
    "name": "ipython",
    "version": 3
   },
   "file_extension": ".py",
   "mimetype": "text/x-python",
   "name": "python",
   "nbconvert_exporter": "python",
   "pygments_lexer": "ipython3",
   "version": "3.12.2"
  }
 },
 "nbformat": 4,
 "nbformat_minor": 5
}
